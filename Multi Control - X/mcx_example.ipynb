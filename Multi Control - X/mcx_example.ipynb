{
 "cells": [
  {
   "cell_type": "markdown",
   "id": "6ad831b3-2025-4789-a8bc-b27dcd531fa5",
   "metadata": {},
   "source": [
    "# Multi-Control-X\n",
    "\n",
    "The multi-control-X applies X gate to one target qubit bit only if the logical AND of all control qubits is satisfied.\n",
    "The multi-control-X function incorporates numerous implementations for the multi-control-X gate,\n",
    "each with a different depth and number of auxiliary qubits.\n",
    "These implementations generically outperform the Gray-code, V-chain and recursive implementations of Ref. [[1]](#1),\n",
    "as well as the relative-phase Toffoli implementation of Ref. [[2]](#2).\n",
    "Given a sufficient number of auxiliary qubits, some implementations allow for logarithmic depth and linear CX-count.\n",
    "The synthesis process selects the appropriate implementation depending on the defined constraints."
   ]
  },
  {
   "cell_type": "markdown",
   "id": "5c849116-e74a-4249-9c54-8f163e3d7a55",
   "metadata": {
    "jp-MarkdownHeadingCollapsed": true
   },
   "source": [
    "Operator: `control`\n",
    "\n",
    "Arguments:\n",
    "\n",
    "- `ctrl: Union[QBit, QArray[QBit]]`\n",
    "- `stmt_block: QCallable`\n",
    "  \n",
    "\n",
    "Operator `control` takes a qubit array of length one or more as `ctrl`, and applies the `stmt_block` operand if all qubits are in the `1` state \n"
   ]
  },
  {
   "cell_type": "markdown",
   "id": "b3ce5912-c51f-4605-ae2d-02edb109565d",
   "metadata": {},
   "source": [
    "## Example\n",
    "\n",
    "The following example shows how to use the `control` operator to implement a Multi-Control-X where a 7-qubit quantum variable serves as the control"
   ]
  },
  {
   "cell_type": "code",
   "execution_count": 5,
   "id": "9629ac10-0774-4140-a207-f210d3cfe4b3",
   "metadata": {},
   "outputs": [],
   "source": [
    "from classiq import *\n",
    "\n",
    "\n",
    "@qfunc\n",
    "def main(cntrl: Output[QArray[QBit]], target: Output[QBit]) -> None:\n",
    "    allocate(5, cntrl)\n",
    "    allocate(1, target)\n",
    "    control(ctrl=cntrl, stmt_block=lambda: X(target))"
   ]
  },
  {
   "cell_type": "code",
   "execution_count": 6,
   "id": "58821271-3a15-4001-bbfc-740eaa604791",
   "metadata": {},
   "outputs": [],
   "source": [
    "qmod = create_model(main, out_file=\"mcx_example\")"
   ]
  },
  {
   "cell_type": "markdown",
   "id": "938acf39",
   "metadata": {},
   "source": [
    "### Minimized Depth"
   ]
  },
  {
   "cell_type": "code",
   "execution_count": null,
   "id": "965ad9f0",
   "metadata": {},
   "outputs": [],
   "source": [
    "qmod_min_width = set_constraints(\n",
    "    qmod, Constraints(optimization_parameter=\"depth\")\n",
    ")\n",
    "\n",
    "qprog = synthesize(qmod_min_width)\n",
    "show(qprog)"
   ]
  },
  {
   "cell_type": "markdown",
   "id": "21dbc448",
   "metadata": {},
   "source": [
    "#### Print max depth"
   ]
  },
  {
   "cell_type": "code",
   "execution_count": null,
   "id": "11e19a44",
   "metadata": {},
   "outputs": [],
   "source": [
    "circuit_depth = QuantumProgram.from_qprog(qprog).transpiled_circuit.depth\n",
    "print(f\"The max circuit depth is {circuit_depth}\")"
   ]
  },
  {
   "cell_type": "markdown",
   "id": "2f59c3cc",
   "metadata": {},
   "source": [
    "### Minimized Width"
   ]
  },
  {
   "cell_type": "code",
   "execution_count": null,
   "id": "397278e2-68d5-4677-9f14-b5c3e13a7224",
   "metadata": {},
   "outputs": [
    {
     "name": "stdout",
     "output_type": "stream",
     "text": [
      "Opening: https://platform.classiq.io/circuit/768c2b54-5034-47ba-8d51-6646339a5480?version=0.62.0\n"
     ]
    }
   ],
   "source": [
    "qmod_min_width = set_constraints(\n",
    "    qmod, Constraints(optimization_parameter=\"width\")\n",
    ")\n",
    "\n",
    "qprog = synthesize(qmod_min_width)\n",
    "show(qprog)"
   ]
  },
  {
   "cell_type": "markdown",
   "id": "80856904",
   "metadata": {},
   "source": [
    "#### Print max width"
   ]
  },
  {
   "cell_type": "code",
   "execution_count": null,
   "id": "e73bcf61",
   "metadata": {},
   "outputs": [],
   "source": [
    "circuit_width = QuantumProgram.from_qprog(qprog).data.width\n",
    "print(f\"The max circuit width is {circuit_width}\")"
   ]
  },
  {
   "cell_type": "markdown",
   "id": "b25c18db",
   "metadata": {},
   "source": [
    "### Somewhere in between"
   ]
  },
  {
   "cell_type": "code",
   "execution_count": null,
   "id": "eee71647",
   "metadata": {},
   "outputs": [],
   "source": [
    "qmod_min_width = set_constraints(\n",
    "    qmod, Constraints(optimization_parameter=\"width\", max_depth=500)\n",
    ")\n",
    "\n",
    "qprog = synthesize(qmod_min_width)\n",
    "show(qprog)"
   ]
  },
  {
   "cell_type": "code",
   "execution_count": null,
   "id": "7878676e",
   "metadata": {},
   "outputs": [],
   "source": [
    "circuit_width = QuantumProgram.from_qprog(qprog).data.width\n",
    "circuit_depth = QuantumProgram.from_qprog(qprog).transpiled_circuit.depth\n",
    "print(f\"The circuit width is {circuit_width} and the circuit_depth is {circuit_depth}\")"
   ]
  }
 ],
 "metadata": {
  "kernelspec": {
   "display_name": "Python 3",
   "language": "python",
   "name": "python3"
  },
  "language_info": {
   "codemirror_mode": {
    "name": "ipython",
    "version": 3
   },
   "file_extension": ".py",
   "mimetype": "text/x-python",
   "name": "python",
   "nbconvert_exporter": "python",
   "pygments_lexer": "ipython3",
   "version": "3.12.8"
  }
 },
 "nbformat": 4,
 "nbformat_minor": 5
}
