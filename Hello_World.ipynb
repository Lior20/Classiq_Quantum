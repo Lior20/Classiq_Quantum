{
 "cells": [
  {
   "cell_type": "code",
   "execution_count": 4,
   "metadata": {},
   "outputs": [
    {
     "name": "stdout",
     "output_type": "stream",
     "text": [
      "Defaulting to user installation because normal site-packages is not writeable\n",
      "Requirement already satisfied: classiq in c:\\users\\liorb\\appdata\\local\\packages\\pythonsoftwarefoundation.python.3.12_qbz5n2kfra8p0\\localcache\\local-packages\\python312\\site-packages (0.61.0)\n",
      "Requirement already satisfied: ConfigArgParse<2.0.0,>=1.5.3 in c:\\users\\liorb\\appdata\\local\\packages\\pythonsoftwarefoundation.python.3.12_qbz5n2kfra8p0\\localcache\\local-packages\\python312\\site-packages (from classiq) (1.7)\n",
      "Requirement already satisfied: Pyomo<6.6,>=6.5 in c:\\users\\liorb\\appdata\\local\\packages\\pythonsoftwarefoundation.python.3.12_qbz5n2kfra8p0\\localcache\\local-packages\\python312\\site-packages (from classiq) (6.5.0)\n",
      "Requirement already satisfied: black<25.0,>=24.0 in c:\\users\\liorb\\appdata\\local\\packages\\pythonsoftwarefoundation.python.3.12_qbz5n2kfra8p0\\localcache\\local-packages\\python312\\site-packages (from classiq) (24.10.0)\n",
      "Requirement already satisfied: httpx<1,>=0.23.0 in c:\\users\\liorb\\appdata\\local\\packages\\pythonsoftwarefoundation.python.3.12_qbz5n2kfra8p0\\localcache\\local-packages\\python312\\site-packages (from classiq) (0.28.1)\n",
      "Requirement already satisfied: keyring<24.0.0,>=23.5.0 in c:\\users\\liorb\\appdata\\local\\packages\\pythonsoftwarefoundation.python.3.12_qbz5n2kfra8p0\\localcache\\local-packages\\python312\\site-packages (from classiq) (23.13.1)\n",
      "Requirement already satisfied: matplotlib<4.0.0,>=3.4.3 in c:\\users\\liorb\\appdata\\local\\packages\\pythonsoftwarefoundation.python.3.12_qbz5n2kfra8p0\\localcache\\local-packages\\python312\\site-packages (from classiq) (3.9.1)\n",
      "Requirement already satisfied: networkx<3.0.0,>=2.5.1 in c:\\users\\liorb\\appdata\\local\\packages\\pythonsoftwarefoundation.python.3.12_qbz5n2kfra8p0\\localcache\\local-packages\\python312\\site-packages (from classiq) (2.8.8)\n",
      "Requirement already satisfied: numexpr<3.0.0,>=2.7.3 in c:\\users\\liorb\\appdata\\local\\packages\\pythonsoftwarefoundation.python.3.12_qbz5n2kfra8p0\\localcache\\local-packages\\python312\\site-packages (from classiq) (2.10.2)\n",
      "Requirement already satisfied: numpy<2.0.0,>=1.26.0 in c:\\users\\liorb\\appdata\\local\\packages\\pythonsoftwarefoundation.python.3.12_qbz5n2kfra8p0\\localcache\\local-packages\\python312\\site-packages (from classiq) (1.26.4)\n",
      "Requirement already satisfied: packaging<24.0,>=23.2 in c:\\users\\liorb\\appdata\\local\\packages\\pythonsoftwarefoundation.python.3.12_qbz5n2kfra8p0\\localcache\\local-packages\\python312\\site-packages (from classiq) (23.2)\n",
      "Requirement already satisfied: pandas<3.0.0,>=1.4.0 in c:\\users\\liorb\\appdata\\local\\packages\\pythonsoftwarefoundation.python.3.12_qbz5n2kfra8p0\\localcache\\local-packages\\python312\\site-packages (from classiq) (2.2.3)\n",
      "Requirement already satisfied: plotly<6.0.0,>=5.7.0 in c:\\users\\liorb\\appdata\\local\\packages\\pythonsoftwarefoundation.python.3.12_qbz5n2kfra8p0\\localcache\\local-packages\\python312\\site-packages (from classiq) (5.24.1)\n",
      "Requirement already satisfied: pydantic<2.10.0,>=2.9.0 in c:\\users\\liorb\\appdata\\local\\packages\\pythonsoftwarefoundation.python.3.12_qbz5n2kfra8p0\\localcache\\local-packages\\python312\\site-packages (from classiq) (2.9.2)\n",
      "Requirement already satisfied: pydantic-settings<3.0.0,>=2.4.0 in c:\\users\\liorb\\appdata\\local\\packages\\pythonsoftwarefoundation.python.3.12_qbz5n2kfra8p0\\localcache\\local-packages\\python312\\site-packages (from classiq) (2.7.0)\n",
      "Requirement already satisfied: scipy<2.0.0,>=1.11.0 in c:\\users\\liorb\\appdata\\local\\packages\\pythonsoftwarefoundation.python.3.12_qbz5n2kfra8p0\\localcache\\local-packages\\python312\\site-packages (from classiq) (1.14.1)\n",
      "Requirement already satisfied: sympy<2.0.0,>=1.13.0 in c:\\users\\liorb\\appdata\\local\\packages\\pythonsoftwarefoundation.python.3.12_qbz5n2kfra8p0\\localcache\\local-packages\\python312\\site-packages (from classiq) (1.13.3)\n",
      "Requirement already satisfied: tabulate<1,>=0.8.9 in c:\\users\\liorb\\appdata\\local\\packages\\pythonsoftwarefoundation.python.3.12_qbz5n2kfra8p0\\localcache\\local-packages\\python312\\site-packages (from classiq) (0.9.0)\n",
      "Requirement already satisfied: click>=8.0.0 in c:\\users\\liorb\\appdata\\local\\packages\\pythonsoftwarefoundation.python.3.12_qbz5n2kfra8p0\\localcache\\local-packages\\python312\\site-packages (from black<25.0,>=24.0->classiq) (8.1.7)\n",
      "Requirement already satisfied: mypy-extensions>=0.4.3 in c:\\users\\liorb\\appdata\\local\\packages\\pythonsoftwarefoundation.python.3.12_qbz5n2kfra8p0\\localcache\\local-packages\\python312\\site-packages (from black<25.0,>=24.0->classiq) (1.0.0)\n",
      "Requirement already satisfied: pathspec>=0.9.0 in c:\\users\\liorb\\appdata\\local\\packages\\pythonsoftwarefoundation.python.3.12_qbz5n2kfra8p0\\localcache\\local-packages\\python312\\site-packages (from black<25.0,>=24.0->classiq) (0.12.1)\n",
      "Requirement already satisfied: platformdirs>=2 in c:\\users\\liorb\\appdata\\local\\packages\\pythonsoftwarefoundation.python.3.12_qbz5n2kfra8p0\\localcache\\local-packages\\python312\\site-packages (from black<25.0,>=24.0->classiq) (4.3.6)\n",
      "Requirement already satisfied: anyio in c:\\users\\liorb\\appdata\\local\\packages\\pythonsoftwarefoundation.python.3.12_qbz5n2kfra8p0\\localcache\\local-packages\\python312\\site-packages (from httpx<1,>=0.23.0->classiq) (4.7.0)\n",
      "Requirement already satisfied: certifi in c:\\users\\liorb\\appdata\\local\\packages\\pythonsoftwarefoundation.python.3.12_qbz5n2kfra8p0\\localcache\\local-packages\\python312\\site-packages (from httpx<1,>=0.23.0->classiq) (2024.12.14)\n",
      "Requirement already satisfied: httpcore==1.* in c:\\users\\liorb\\appdata\\local\\packages\\pythonsoftwarefoundation.python.3.12_qbz5n2kfra8p0\\localcache\\local-packages\\python312\\site-packages (from httpx<1,>=0.23.0->classiq) (1.0.7)\n",
      "Requirement already satisfied: idna in c:\\users\\liorb\\appdata\\local\\packages\\pythonsoftwarefoundation.python.3.12_qbz5n2kfra8p0\\localcache\\local-packages\\python312\\site-packages (from httpx<1,>=0.23.0->classiq) (3.10)\n",
      "Requirement already satisfied: h11<0.15,>=0.13 in c:\\users\\liorb\\appdata\\local\\packages\\pythonsoftwarefoundation.python.3.12_qbz5n2kfra8p0\\localcache\\local-packages\\python312\\site-packages (from httpcore==1.*->httpx<1,>=0.23.0->classiq) (0.14.0)\n",
      "Requirement already satisfied: jaraco.classes in c:\\users\\liorb\\appdata\\local\\packages\\pythonsoftwarefoundation.python.3.12_qbz5n2kfra8p0\\localcache\\local-packages\\python312\\site-packages (from keyring<24.0.0,>=23.5.0->classiq) (3.4.0)\n",
      "Requirement already satisfied: pywin32-ctypes>=0.2.0 in c:\\users\\liorb\\appdata\\local\\packages\\pythonsoftwarefoundation.python.3.12_qbz5n2kfra8p0\\localcache\\local-packages\\python312\\site-packages (from keyring<24.0.0,>=23.5.0->classiq) (0.2.3)\n",
      "Requirement already satisfied: contourpy>=1.0.1 in c:\\users\\liorb\\appdata\\local\\packages\\pythonsoftwarefoundation.python.3.12_qbz5n2kfra8p0\\localcache\\local-packages\\python312\\site-packages (from matplotlib<4.0.0,>=3.4.3->classiq) (1.2.1)\n",
      "Requirement already satisfied: cycler>=0.10 in c:\\users\\liorb\\appdata\\local\\packages\\pythonsoftwarefoundation.python.3.12_qbz5n2kfra8p0\\localcache\\local-packages\\python312\\site-packages (from matplotlib<4.0.0,>=3.4.3->classiq) (0.12.1)\n",
      "Requirement already satisfied: fonttools>=4.22.0 in c:\\users\\liorb\\appdata\\local\\packages\\pythonsoftwarefoundation.python.3.12_qbz5n2kfra8p0\\localcache\\local-packages\\python312\\site-packages (from matplotlib<4.0.0,>=3.4.3->classiq) (4.53.1)\n",
      "Requirement already satisfied: kiwisolver>=1.3.1 in c:\\users\\liorb\\appdata\\local\\packages\\pythonsoftwarefoundation.python.3.12_qbz5n2kfra8p0\\localcache\\local-packages\\python312\\site-packages (from matplotlib<4.0.0,>=3.4.3->classiq) (1.4.5)\n",
      "Requirement already satisfied: pillow>=8 in c:\\users\\liorb\\appdata\\local\\packages\\pythonsoftwarefoundation.python.3.12_qbz5n2kfra8p0\\localcache\\local-packages\\python312\\site-packages (from matplotlib<4.0.0,>=3.4.3->classiq) (10.4.0)\n",
      "Requirement already satisfied: pyparsing>=2.3.1 in c:\\users\\liorb\\appdata\\local\\packages\\pythonsoftwarefoundation.python.3.12_qbz5n2kfra8p0\\localcache\\local-packages\\python312\\site-packages (from matplotlib<4.0.0,>=3.4.3->classiq) (3.1.2)\n",
      "Requirement already satisfied: python-dateutil>=2.7 in c:\\users\\liorb\\appdata\\local\\packages\\pythonsoftwarefoundation.python.3.12_qbz5n2kfra8p0\\localcache\\local-packages\\python312\\site-packages (from matplotlib<4.0.0,>=3.4.3->classiq) (2.9.0.post0)\n",
      "Requirement already satisfied: pytz>=2020.1 in c:\\users\\liorb\\appdata\\local\\packages\\pythonsoftwarefoundation.python.3.12_qbz5n2kfra8p0\\localcache\\local-packages\\python312\\site-packages (from pandas<3.0.0,>=1.4.0->classiq) (2024.2)\n",
      "Requirement already satisfied: tzdata>=2022.7 in c:\\users\\liorb\\appdata\\local\\packages\\pythonsoftwarefoundation.python.3.12_qbz5n2kfra8p0\\localcache\\local-packages\\python312\\site-packages (from pandas<3.0.0,>=1.4.0->classiq) (2024.2)\n",
      "Requirement already satisfied: tenacity>=6.2.0 in c:\\users\\liorb\\appdata\\local\\packages\\pythonsoftwarefoundation.python.3.12_qbz5n2kfra8p0\\localcache\\local-packages\\python312\\site-packages (from plotly<6.0.0,>=5.7.0->classiq) (9.0.0)\n",
      "Requirement already satisfied: annotated-types>=0.6.0 in c:\\users\\liorb\\appdata\\local\\packages\\pythonsoftwarefoundation.python.3.12_qbz5n2kfra8p0\\localcache\\local-packages\\python312\\site-packages (from pydantic<2.10.0,>=2.9.0->classiq) (0.7.0)\n",
      "Requirement already satisfied: pydantic-core==2.23.4 in c:\\users\\liorb\\appdata\\local\\packages\\pythonsoftwarefoundation.python.3.12_qbz5n2kfra8p0\\localcache\\local-packages\\python312\\site-packages (from pydantic<2.10.0,>=2.9.0->classiq) (2.23.4)\n",
      "Requirement already satisfied: typing-extensions>=4.6.1 in c:\\users\\liorb\\appdata\\local\\packages\\pythonsoftwarefoundation.python.3.12_qbz5n2kfra8p0\\localcache\\local-packages\\python312\\site-packages (from pydantic<2.10.0,>=2.9.0->classiq) (4.12.2)\n",
      "Requirement already satisfied: python-dotenv>=0.21.0 in c:\\users\\liorb\\appdata\\local\\packages\\pythonsoftwarefoundation.python.3.12_qbz5n2kfra8p0\\localcache\\local-packages\\python312\\site-packages (from pydantic-settings<3.0.0,>=2.4.0->classiq) (1.0.1)\n",
      "Requirement already satisfied: ply in c:\\users\\liorb\\appdata\\local\\packages\\pythonsoftwarefoundation.python.3.12_qbz5n2kfra8p0\\localcache\\local-packages\\python312\\site-packages (from Pyomo<6.6,>=6.5->classiq) (3.11)\n",
      "Requirement already satisfied: mpmath<1.4,>=1.1.0 in c:\\users\\liorb\\appdata\\local\\packages\\pythonsoftwarefoundation.python.3.12_qbz5n2kfra8p0\\localcache\\local-packages\\python312\\site-packages (from sympy<2.0.0,>=1.13.0->classiq) (1.3.0)\n",
      "Requirement already satisfied: colorama in c:\\users\\liorb\\appdata\\local\\packages\\pythonsoftwarefoundation.python.3.12_qbz5n2kfra8p0\\localcache\\local-packages\\python312\\site-packages (from click>=8.0.0->black<25.0,>=24.0->classiq) (0.4.6)\n",
      "Requirement already satisfied: six>=1.5 in c:\\users\\liorb\\appdata\\local\\packages\\pythonsoftwarefoundation.python.3.12_qbz5n2kfra8p0\\localcache\\local-packages\\python312\\site-packages (from python-dateutil>=2.7->matplotlib<4.0.0,>=3.4.3->classiq) (1.16.0)\n",
      "Requirement already satisfied: sniffio>=1.1 in c:\\users\\liorb\\appdata\\local\\packages\\pythonsoftwarefoundation.python.3.12_qbz5n2kfra8p0\\localcache\\local-packages\\python312\\site-packages (from anyio->httpx<1,>=0.23.0->classiq) (1.3.1)\n",
      "Requirement already satisfied: more-itertools in c:\\users\\liorb\\appdata\\local\\packages\\pythonsoftwarefoundation.python.3.12_qbz5n2kfra8p0\\localcache\\local-packages\\python312\\site-packages (from jaraco.classes->keyring<24.0.0,>=23.5.0->classiq) (10.5.0)\n",
      "Note: you may need to restart the kernel to use updated packages.\n"
     ]
    }
   ],
   "source": [
    "pip install -U classiq"
   ]
  },
  {
   "cell_type": "code",
   "execution_count": 3,
   "metadata": {},
   "outputs": [
    {
     "name": "stdout",
     "output_type": "stream",
     "text": [
      "Name: classiq\n",
      "Version: 0.61.0\n",
      "Summary: Classiq's Python SDK for quantum computing\n",
      "Home-page: https://classiq.io\n",
      "Author: Classiq Technologies\n",
      "Author-email: support@classiq.io\n",
      "License: Proprietary\n",
      "Location: C:\\Users\\liorb\\AppData\\Local\\Packages\\PythonSoftwareFoundation.Python.3.12_qbz5n2kfra8p0\\LocalCache\\local-packages\\Python312\\site-packages\n",
      "Requires: black, ConfigArgParse, httpx, keyring, matplotlib, networkx, numexpr, numpy, packaging, pandas, plotly, pydantic, pydantic-settings, Pyomo, scipy, sympy, tabulate\n",
      "Required-by: \n"
     ]
    }
   ],
   "source": [
    "!pip show classiq"
   ]
  },
  {
   "cell_type": "code",
   "execution_count": 13,
   "metadata": {},
   "outputs": [],
   "source": [
    "import classiq\n",
    "classiq.authenticate()"
   ]
  },
  {
   "cell_type": "code",
   "execution_count": 6,
   "metadata": {},
   "outputs": [],
   "source": [
    "from classiq import *\n"
   ]
  },
  {
   "cell_type": "code",
   "execution_count": 9,
   "metadata": {},
   "outputs": [
    {
     "name": "stdout",
     "output_type": "stream",
     "text": [
      "Opening: https://platform.classiq.io/circuit/01ae9a30-5e2b-4fbb-843c-cc24463ca760?version=0.61.0\n",
      "[{'x': 0, 'y': 1}: 144, {'x': 15, 'y': 226}: 140, {'x': 3, 'y': 10}: 138, {'x': 2, 'y': 5}: 136, {'x': 11, 'y': 122}: 134, {'x': 4, 'y': 17}: 133, {'x': 8, 'y': 65}: 132, {'x': 9, 'y': 82}: 131, {'x': 10, 'y': 101}: 131, {'x': 5, 'y': 26}: 129, {'x': 12, 'y': 145}: 128, {'x': 6, 'y': 37}: 126, {'x': 14, 'y': 197}: 119, {'x': 7, 'y': 50}: 111, {'x': 13, 'y': 170}: 110, {'x': 1, 'y': 2}: 106]\n"
     ]
    }
   ],
   "source": [
    "# import classiq\n",
    "# classiq.authenticate()\n",
    "\n",
    "from classiq import *\n",
    "\n",
    "\n",
    "@qfunc\n",
    "def main(x: Output[QNum], y: Output[QNum]):\n",
    "\n",
    "    allocate(4, x)\n",
    "    hadamard_transform(x)  # creates a uniform superposition\n",
    "    y |= x**2 + 1\n",
    "\n",
    "\n",
    "quantum_program = synthesize(create_model(main))\n",
    "\n",
    "show(quantum_program)\n",
    "job = execute(quantum_program)\n",
    "results = job.result()[0].value.parsed_counts\n",
    "print(results)"
   ]
  },
  {
   "cell_type": "code",
   "execution_count": null,
   "metadata": {},
   "outputs": [],
   "source": []
  }
 ],
 "metadata": {
  "kernelspec": {
   "display_name": "Python 3",
   "language": "python",
   "name": "python3"
  },
  "language_info": {
   "codemirror_mode": {
    "name": "ipython",
    "version": 3
   },
   "file_extension": ".py",
   "mimetype": "text/x-python",
   "name": "python",
   "nbconvert_exporter": "python",
   "pygments_lexer": "ipython3",
   "version": "3.12.8"
  }
 },
 "nbformat": 4,
 "nbformat_minor": 2
}
